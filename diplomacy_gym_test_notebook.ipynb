{
 "cells": [
  {
   "cell_type": "code",
   "execution_count": null,
   "id": "9fe6ffaa-35a2-4fb6-aec4-f516b3b6422c",
   "metadata": {},
   "outputs": [
    {
     "name": "stderr",
     "output_type": "stream",
     "text": [
      "\n",
      "  0%|                                                                                                                                                                                                      | 0/100 [00:00<?, ?it/s]\u001b[A\n",
      "  0%|                                                                                                                                                                                                      | 0/200 [00:00<?, ?it/s]\u001b[A"
     ]
    }
   ],
   "source": [
    "import os.path\n",
    "from tqdm import tqdm\n",
    "from diplomacy_gym_environment import DiplomacyEnvironment\n",
    "from diplomacy_gym_simple_rl_agent import DiplomacySimpleRlAgent\n",
    "\n",
    "if __name__ == '__main__':\n",
    "    env = DiplomacyEnvironment(prints=False, render_path=None)\n",
    "    agent = DiplomacySimpleRlAgent(env, use_nn_states=False)\n",
    "    pbar = tqdm(range(100), position=1, leave=True)\n",
    "    should_render = True\n",
    "    render = False\n",
    "    for i in pbar:\n",
    "        pbar.set_description(f\"Game {i}\")\n",
    "        if should_render:\n",
    "            render = i % 25 == 0\n",
    "        agent.play(render=render)\n"
   ]
  },
  {
   "cell_type": "code",
   "execution_count": null,
   "id": "fc0fbc05-4a25-4c39-89b2-f5b92663cd33",
   "metadata": {},
   "outputs": [],
   "source": []
  }
 ],
 "metadata": {
  "kernelspec": {
   "display_name": "Python 3 (ipykernel)",
   "language": "python",
   "name": "python3"
  },
  "language_info": {
   "codemirror_mode": {
    "name": "ipython",
    "version": 3
   },
   "file_extension": ".py",
   "mimetype": "text/x-python",
   "name": "python",
   "nbconvert_exporter": "python",
   "pygments_lexer": "ipython3",
   "version": "3.12.2"
  }
 },
 "nbformat": 4,
 "nbformat_minor": 5
}
